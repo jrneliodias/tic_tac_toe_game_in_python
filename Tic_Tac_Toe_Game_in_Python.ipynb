{
  "nbformat": 4,
  "nbformat_minor": 0,
  "metadata": {
    "kernelspec": {
      "display_name": "Python 3",
      "language": "python",
      "name": "python3"
    },
    "language_info": {
      "codemirror_mode": {
        "name": "ipython",
        "version": 3
      },
      "file_extension": ".py",
      "mimetype": "text/x-python",
      "name": "python",
      "nbconvert_exporter": "python",
      "pygments_lexer": "ipython3",
      "version": "3.8.3-final"
    },
    "colab": {
      "name": "Tic Tac Toe Game in Python",
      "provenance": [],
      "include_colab_link": true
    }
  },
  "cells": [
    {
      "cell_type": "markdown",
      "metadata": {
        "id": "view-in-github",
        "colab_type": "text"
      },
      "source": [
        "<a href=\"https://colab.research.google.com/github/jrneliodias/tic_tac_toe_game_in_python/blob/main/Tic_Tac_Toe_Game_in_Python.ipynb\" target=\"_parent\"><img src=\"https://colab.research.google.com/assets/colab-badge.svg\" alt=\"Open In Colab\"/></a>"
      ]
    },
    {
      "cell_type": "markdown",
      "metadata": {
        "id": "YV7NpvKVzGgX"
      },
      "source": [
        "# Tic Tac Toe Game (Jogo da Velha)\n",
        "In this notebook, I write a program that simulate a game with two players. To do that, we need to have the following functions:\n",
        "\n",
        "*  Display the board\n",
        "*  Receive the marker of player 1 and player 2\n",
        "*  Print the marker of the player in the position of the board\n",
        "*  Check if with the new marker placed, the player won the game\n",
        "*  Choose the first player to play\n",
        "*  Check if the position is available\n",
        "*  Check if all the board is full to determinate the draw\n",
        "\n"
      ]
    },
    {
      "cell_type": "markdown",
      "metadata": {
        "id": "WtQUxPrMzGgZ"
      },
      "source": [
        "\n",
        "**Step 1**: A function that can print out a board with the value of positions Set up the board as a list, where each index 1-9 corresponds with a number on a number pad, so you get a 3 by 3 board representation."
      ]
    },
    {
      "cell_type": "code",
      "metadata": {
        "collapsed": true,
        "id": "AqOxT2enzGga"
      },
      "source": [
        "from IPython.display import clear_output\n",
        "\n",
        "def display_board(board, clear= False):\n",
        "    \n",
        "    if clear:\n",
        "       clear_output()\n",
        "    print(f'  {board[0]}  |  {board[1]}  |  {board[2]}  ')\n",
        "    print( '-----|-----|-----')\n",
        "    print(f'  {board[3]}  |  {board[4]}  |  {board[5]} ')\n",
        "    print( '-----|-----|-----')\n",
        "    print(f'  {board[6]}  |  {board[7]}  |  {board[8]} \\n')\n"
      ],
      "execution_count": 31,
      "outputs": []
    },
    {
      "cell_type": "markdown",
      "metadata": {
        "id": "H5QmN06DzGgb"
      },
      "source": [
        " **Step 2**: Defining a function that can take in a player input and assign their marker as 'X' or 'O'. The while loop is to continually ask until you get a correct answer."
      ]
    },
    {
      "cell_type": "code",
      "metadata": {
        "collapsed": true,
        "id": "ZfZipLIDzGgb"
      },
      "source": [
        "def player_input():\n",
        "    marker = ['X','O']\n",
        "    player1 = input('Player 1, choose your marker (X or O): ').upper()\n",
        "    while (player1 not in marker):\n",
        "       print('Sorry, I dont understand. Please, answer again.')\n",
        "       player1 = input('Player 1 choose your marker (X or O) ')\n",
        "    if player1 == 'X':\n",
        "        player2 = 'O'\n",
        "    else:\n",
        "        player2 = 'X'\n",
        "    return (player1, player2)\n"
      ],
      "execution_count": 42,
      "outputs": []
    },
    {
      "cell_type": "markdown",
      "metadata": {
        "id": "r4vqfCsfzGgc"
      },
      "source": [
        "**Step 3**: `place_maker` function takes in the board list object, a marker ('X' or 'O'), a desired position (number 1-9) and assigns it to the board."
      ]
    },
    {
      "cell_type": "code",
      "metadata": {
        "collapsed": true,
        "id": "4g0qQqRJzGgc"
      },
      "source": [
        "def place_marker(board, marker, position):\n",
        "    board[position-1] = marker.upper()"
      ],
      "execution_count": 33,
      "outputs": []
    },
    {
      "cell_type": "markdown",
      "metadata": {
        "id": "9CP_r18YzGgd"
      },
      "source": [
        "**Step 4**: `win_check` function that takes in a board and a mark (X or O) and then checks to see if that mark has won."
      ]
    },
    {
      "cell_type": "code",
      "metadata": {
        "collapsed": true,
        "id": "gNH6odWUzGgd"
      },
      "source": [
        "def win_check(board, mark):\n",
        "    for i in [0,1,2]:\n",
        "        # check if the same marker is in the rows or columns\n",
        "        if board[i]== board[i+3]== board[i+6] == mark or board[3*i]== board[3*i+1]== board[3*i+2] == mark:\n",
        "            return True\n",
        "        # Check if is the same marker is in the diagonals    \n",
        "    if board[0]== board[4]== board[8] == mark or board[2]== board[4]== board[6] == mark:\n",
        "            return True\n",
        "    return False\n"
      ],
      "execution_count": 34,
      "outputs": []
    },
    {
      "cell_type": "markdown",
      "metadata": {
        "id": "uWXnpYVBzGge"
      },
      "source": [
        "**Step 5**: `choose_first` function uses the random module to randomly decide which player goes first."
      ]
    },
    {
      "cell_type": "code",
      "metadata": {
        "collapsed": true,
        "id": "tiJ-PhZGzGge"
      },
      "source": [
        "from random import shuffle\n",
        "\n",
        "def choose_first():\n",
        "    plyr = [1,2]\n",
        "    shuffle(plyr)\n",
        "    print('The player {} will play first'.format(plyr[0]))\n",
        "    return plyr[0]"
      ],
      "execution_count": 35,
      "outputs": []
    },
    {
      "cell_type": "markdown",
      "metadata": {
        "id": "e3Y3X1O4zGge"
      },
      "source": [
        "**Step 6: `space_check` function returns a boolean indicating whether a space on the board is freely available.**"
      ]
    },
    {
      "cell_type": "code",
      "metadata": {
        "collapsed": true,
        "id": "4cncPq0AzGgf"
      },
      "source": [
        "def space_check(board, position):\n",
        "    return board[position-1].isspace()\n",
        "    "
      ],
      "execution_count": 36,
      "outputs": []
    },
    {
      "cell_type": "markdown",
      "metadata": {
        "id": "45gcKu_IzGgf"
      },
      "source": [
        "**Step 7:** `full_board_check`function checks if the board is full and returns a boolean value. True if full, False otherwise."
      ]
    },
    {
      "cell_type": "code",
      "metadata": {
        "collapsed": true,
        "id": "970Y7p12zGgf"
      },
      "source": [
        "def full_board_check(board):\n",
        "    return ' ' not in board"
      ],
      "execution_count": 37,
      "outputs": []
    },
    {
      "cell_type": "markdown",
      "metadata": {
        "id": "n3Q3qycNzGgg"
      },
      "source": [
        "**Step 8:** `player_choice` function asks for a player's next position (as a number 1-9) and then uses the `space_check` function to check if it's a free position. If it is, then return the position for later use."
      ]
    },
    {
      "cell_type": "code",
      "metadata": {
        "collapsed": true,
        "id": "6pmgqrItzGgg"
      },
      "source": [
        "def player_choice(board,turn):\n",
        "    \n",
        "    choice = int(input(\"Player {}, choose a position: \".format(turn)))\n",
        "    while(choice not in range(0,10) or not space_check(board, choice)):\n",
        "        if not space_check(board, choice):\n",
        "            print('This position has already been taken')\n",
        "        choice = int(input(\"Player, choose a valid position (1-9): \"))\n",
        "    \n",
        "    return choice"
      ],
      "execution_count": 38,
      "outputs": []
    },
    {
      "cell_type": "markdown",
      "metadata": {
        "id": "oVivOX5azGgg"
      },
      "source": [
        "**Step 9:** `replay` function asks the player if they want to play again and returns a boolean `True` if they do want to play again."
      ]
    },
    {
      "cell_type": "code",
      "metadata": {
        "collapsed": true,
        "id": "ScZQd_PkzGgg"
      },
      "source": [
        "def replay():\n",
        "    repy = input('Do you want to play again? (Y/N) ').upper()\n",
        "    return repy == 'Y'"
      ],
      "execution_count": 39,
      "outputs": []
    },
    {
      "cell_type": "markdown",
      "metadata": {
        "collapsed": true,
        "id": "q5BMOTFjzGgh"
      },
      "source": [
        "**Step 10: Here is the execution of the game itself using the fuctions defining above;"
      ]
    },
    {
      "cell_type": "code",
      "metadata": {
        "collapsed": true,
        "colab": {
          "base_uri": "https://localhost:8080/"
        },
        "id": "vvaL6cw3zGgh",
        "outputId": "0c4a0b1e-8593-4c23-df07-ada0a849a638"
      },
      "source": [
        "print('Welcome to Tic Tac Toe!\\n')\n",
        "print('This is the board and positions:\\n')\n",
        "display_board(list(range(1,10)),clear= False)\n",
        "\n",
        "\n",
        "while True:\n",
        "    # Defining the board\n",
        "    \n",
        "    Board = 9*[' ']\n",
        "    # Receiving the markers of the players\n",
        "    player1, player2 = player_input()\n",
        "    # Receiving the player that will play first\n",
        "    turn = choose_first()\n",
        "    \n",
        "    play_game = input(\"Do you ready to play? (Yes or No) \")\n",
        "\n",
        "    game_on = play_game.upper()[0] == 'Y'\n",
        "        \n",
        "    while game_on:\n",
        "        \n",
        "        # Player 1 Turn\n",
        "        if turn == 1:\n",
        "            display_board(Board,True)\n",
        "            # Take the position that the player will choose:\n",
        "            position = player_choice(Board,turn)\n",
        "            # Printing the marker in the board\n",
        "            place_marker(Board, player1, position)\n",
        "            \n",
        "            # Here we will check if the player win:\n",
        "            if win_check(Board, player1):\n",
        "                display_board(Board,True)\n",
        "                print('Congratulations! Player 1 have won the game!')\n",
        "                game_on = False\n",
        "            else:\n",
        "              # If don't win, so check if have a draw\n",
        "                if full_board_check(Board):\n",
        "                    display_board(Board, True)\n",
        "                    print('The game is a draw!')\n",
        "                    break\n",
        "                else:\n",
        "                  # If not, give the turn to the next player\n",
        "                    turn = 2\n",
        "        else:\n",
        "        # Player2's turn.\n",
        "           \n",
        "            display_board(Board,True)\n",
        "            position = player_choice(Board,turn)\n",
        "            place_marker(Board, player2, position)\n",
        "\n",
        "            if win_check(Board, player2):\n",
        "                display_board(Board, True)\n",
        "                print('Congratulations! Player 2 have won the game!')\n",
        "                game_on = False\n",
        "            else:\n",
        "                if full_board_check(Board):\n",
        "                    display_board(Board,True)\n",
        "                    print('The game is a draw!')\n",
        "                    break\n",
        "                else:\n",
        "                    turn = 1\n",
        "\n",
        "    if not replay():\n",
        "        break"
      ],
      "execution_count": 41,
      "outputs": [
        {
          "output_type": "stream",
          "text": [
            "  X  |  X  |     \n",
            "-----|-----|-----\n",
            "  O  |  O  |  X \n",
            "-----|-----|-----\n",
            "  O  |     |  O \n",
            "\n",
            "Player 1, choose a position: 3\n",
            "  X  |  X  |  X  \n",
            "-----|-----|-----\n",
            "  O  |  O  |  X \n",
            "-----|-----|-----\n",
            "  O  |     |  O \n",
            "\n",
            "Congratulations! Player 1 have won the game!\n",
            "Do you want to play again? (Y/N) n\n"
          ],
          "name": "stdout"
        }
      ]
    }
  ]
}